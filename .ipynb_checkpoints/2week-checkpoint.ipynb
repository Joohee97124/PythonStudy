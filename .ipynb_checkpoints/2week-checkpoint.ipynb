{
 "cells": [
  {
   "cell_type": "code",
   "execution_count": 1,
   "metadata": {},
   "outputs": [
    {
     "name": "stdout",
     "output_type": "stream",
     "text": [
      "[6, 12, 17, 26, 30, 45]\n",
      "None\n"
     ]
    }
   ],
   "source": [
    "import random\n",
    "\n",
    "def Lotto () :\n",
    "    lotto = random.sample(range(1,46),6)\n",
    "    lotto.sort()\n",
    "    return print(lotto) \n",
    "\n",
    "print(Lotto())"
   ]
  },
  {
   "cell_type": "markdown",
   "metadata": {},
   "source": [
    "### 함수응용 1.\n",
    "- 1. 로또 번호 생성기 함수 만들기. 정렬까지 포함할 것."
   ]
  },
  {
   "cell_type": "code",
   "execution_count": null,
   "metadata": {},
   "outputs": [],
   "source": [
    "def add(x,y) :\n",
    "    return x+y\n",
    "\n",
    "def sub(x,y) : \n",
    "    return x-y\n",
    "\n",
    "def mul(x,y) :\n",
    "    return x*y\n",
    "\n",
    "def div(x,y) :\n",
    "    return x/y\n",
    "\n",
    "if __name__ == \"__main__\" :\n",
    "  while 1 :\n",
    "    a = input() # 숫자1 입력부\n",
    "    b = input() # 연산자 입력부\n",
    "    c = input() # 숫자2 입력부\n",
    "    if b == \"+\" :\n",
    "     print(a, \"+\", c, \"=\", a+c)\n",
    "    elif b == \"-\" :\n",
    "      print(a, \"-\", c, \"=\", a-c)\n",
    "    elif b == \"*\" :\n",
    "      print(a, \"*\", c, \"=\", a*c)\n",
    "    elif b == \"/\" :\n",
    "      print(a, \"*\", c, \"=\", a/c)\n",
    "\n",
    "try:\n",
    "    4/0\n",
    "except ZeroDivisionError:\n",
    "    print(\"0으로 나눌 수 없습니다.\")"
   ]
  },
  {
   "cell_type": "markdown",
   "metadata": {},
   "source": [
    "### 함수응용 2.\n",
    "- op.py의 코드"
   ]
  },
  {
   "cell_type": "code",
   "execution_count": null,
   "metadata": {},
   "outputs": [],
   "source": [
    "import op\n",
    "\n",
    "if __name__ == \"__main__\" :\n",
    "  while 1 :\n",
    "    a = input() # 숫자1 입력부\n",
    "    b = input() # 연산자 입력부\n",
    "    c = input() # 숫자2 입력부\n",
    "    if b == \"+\" :\n",
    "     print(a, \"+\", c, \"=\", a+c)\n",
    "    elif b == \"-\" :\n",
    "      print(a, \"-\", c, \"=\", a-c)\n",
    "    elif b == \"*\" :\n",
    "      print(a, \"*\", c, \"=\", a*c)\n",
    "    elif b == \"/\" :\n",
    "      print(a, \"*\", c, \"=\", a/c)\n",
    "\n",
    "\n",
    "x = 100\n",
    "y = 200\n",
    "print(op.add(x,y))"
   ]
  },
  {
   "cell_type": "markdown",
   "metadata": {},
   "source": [
    "- 2. 다음과 같은 계산기 코드가 있을 때, 상세하게 살을 덧붙이고, 예외처리와 모듈화를 진행하라."
   ]
  },
  {
   "cell_type": "code",
   "execution_count": null,
   "metadata": {},
   "outputs": [],
   "source": [
    "a = input(\"문자 :\")\n",
    "e = a\n",
    "print(e)\n",
    "\n",
    "b = len(e)\n",
    "c = max(e)\n",
    "\n",
    "d = e[::-1]\n",
    "\n",
    "print(\"문자의 개수 : \" , b)\n",
    "print(\"가장 큰 문자열 : \" ,c)\n",
    "print(\"뒤집은 문자열 : \" ,d )"
   ]
  },
  {
   "cell_type": "markdown",
   "metadata": {},
   "source": [
    "### 함수응용 3.\n",
    "- 3. 다음과 같이 문자열을 분석하는 함수를 만들어라. 내장함수를 이용하라"
   ]
  },
  {
   "cell_type": "code",
   "execution_count": null,
   "metadata": {},
   "outputs": [],
   "source": [
    "import datetime\n",
    "from datetime import timedelta\n",
    "\n",
    "now = datetime.datetime.now()\n",
    "print(now)\n",
    "\n",
    "soon = (now + timedelta(days=49, hours=1, minutes=8, seconds=7))\n",
    "print(soon)"
   ]
  },
  {
   "cell_type": "markdown",
   "metadata": {},
   "source": [
    "### 함수응용 4.\n",
    "- 4. 내장함수와 datetime라이브러리를 이용하여 지금을 출력하고, 49일 1시간 8분 7초 후가 언제인지 출력하는 함수를 만드시오."
   ]
  },
  {
   "cell_type": "code",
   "execution_count": null,
   "metadata": {},
   "outputs": [],
   "source": [
    "dic = {'apple':'사과', 'banana':'바나나','camel':'낙타'}\n",
    "\n",
    "print(\"전체출력\")\n",
    "\n",
    "for key, value in dic.items() :\n",
    "  print(key,value)\n",
    "\n",
    "search_dic = input(\"영어로 검색 : \")\n",
    "\n",
    "for key, value in dic.items():\n",
    "  if key == search_dic:\n",
    "    print(value)\n",
    "\n",
    "search_dic2 = input(\"한국어로 검색:\")\n",
    "for key, value in dic.items():\n",
    "  if value == search_dic2:\n",
    "    print(key)"
   ]
  },
  {
   "cell_type": "markdown",
   "metadata": {},
   "source": [
    "### 함수응용 4.\n",
    "- dictionary.py 의 코드"
   ]
  },
  {
   "cell_type": "code",
   "execution_count": null,
   "metadata": {},
   "outputs": [],
   "source": [
    "import dictionary\n",
    "\n",
    "try:\n",
    "    input ()\n",
    "except:\n",
    "  print(\"언어를 잘못입력하셨습니다.\")"
   ]
  },
  {
   "cell_type": "markdown",
   "metadata": {},
   "source": [
    "- 4. 영한사전 프로그램을 만들어라. 딕셔너리를 이용할 것, 모듈화/예외처리 할 것"
   ]
  }
 ],
 "metadata": {
  "kernelspec": {
   "display_name": "Python 3",
   "language": "python",
   "name": "python3"
  },
  "language_info": {
   "codemirror_mode": {
    "name": "ipython",
    "version": 3
   },
   "file_extension": ".py",
   "mimetype": "text/x-python",
   "name": "python",
   "nbconvert_exporter": "python",
   "pygments_lexer": "ipython3",
   "version": "3.8.3"
  }
 },
 "nbformat": 4,
 "nbformat_minor": 4
}
