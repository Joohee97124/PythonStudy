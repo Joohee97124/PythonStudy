{
 "cells": [
  {
   "cell_type": "code",
   "execution_count": 5,
   "metadata": {},
   "outputs": [
    {
     "name": "stdout",
     "output_type": "stream",
     "text": [
      "          날짜    중국   타국  한국\n",
      "0 2020-01-20   278    4   1\n",
      "1 2020-01-22   547    8   1\n",
      "2 2020-01-24   916   25   2\n",
      "3 2020-01-26  2700   57   3\n",
      "4 2020-01-28  6000   87   4\n",
      "5 2020-01-30  9700  118   7\n"
     ]
    }
   ],
   "source": [
    "import pandas as pd\n",
    "\n",
    "corona = pd.read_excel('./corona.xlsx')\n",
    "\n",
    "corona['한국'] = [1,1,2,3,4,7]\n",
    "\n",
    "corona.to_csv(\"./covid19.csv\")\n",
    "\n",
    "print(corona)"
   ]
  },
  {
   "cell_type": "markdown",
   "metadata": {},
   "source": [
    "### 데이터프레임\n",
    "- 1-1. corona.xlsx 파일엔 1월20일 부터 1월30일까지의 중국과 타국에서의 COVID19 확진자 추이가 담겨있다.\n",
    "- 이 엑셀을 pandas.DataFrame으로 불러온 뒤 '한국' column을 만들어서 다음의 데이터를 추가하고 covid19.csv로 저장하기\n"
   ]
  },
  {
   "cell_type": "code",
   "execution_count": 34,
   "metadata": {},
   "outputs": [
    {
     "name": "stdout",
     "output_type": "stream",
     "text": [
      "              ,날짜,중국,타국,한국\n",
      "0     0,2020-01-20,278,4,1\n",
      "1     1,2020-01-22,547,8,1\n",
      "2    2,2020-01-24,916,25,2\n",
      "3   3,2020-01-26,2700,57,3\n",
      "4   4,2020-01-28,6000,87,4\n",
      "5  5,2020-01-30,9700,118,7\n",
      "   Unnamed: 0          날짜    중국\n",
      "0           0  2020-01-20   278\n",
      "1           1  2020-01-22   547\n",
      "2           2  2020-01-24   916\n",
      "3           3  2020-01-26  2700\n",
      "4           4  2020-01-28  6000\n",
      "5           5  2020-01-30  9700\n",
      "   Unnamed: 0          날짜   타국\n",
      "0           0  2020-01-20    4\n",
      "1           1  2020-01-22    8\n",
      "2           2  2020-01-24   25\n",
      "3           3  2020-01-26   57\n",
      "4           4  2020-01-28   87\n",
      "5           5  2020-01-30  118\n",
      "   Unnamed: 0          날짜  한국\n",
      "0           0  2020-01-20   1\n",
      "1           1  2020-01-22   1\n",
      "2           2  2020-01-24   2\n",
      "3           3  2020-01-26   3\n",
      "4           4  2020-01-28   4\n",
      "5           5  2020-01-30   7\n"
     ]
    }
   ],
   "source": [
    "co1 = pd.read_csv(\"./covid19.csv\",delimiter='\\t')\n",
    "print(co1)\n",
    "\n",
    "co2 = pd.read_csv(\"./covid19.csv\")\n",
    "co2 = co2[:]\n",
    "co2.drop(['타국','한국'],axis=1, inplace=True)\n",
    "print(co2)\n",
    "\n",
    "co3 = pd.read_csv(\"./covid19.csv\")\n",
    "co3 = co3[:]\n",
    "co3.drop(['중국','한국'],axis=1, inplace=True)\n",
    "print(co3)\n",
    "\n",
    "co4 = pd.read_csv(\"./covid19.csv\")\n",
    "co4 = co4[:]\n",
    "co4.drop(['중국','타국'],axis=1, inplace=True)\n",
    "print(co4)\n",
    "\n",
    "\n",
    "writer = pd.ExcelWriter('./covid19_new.xlsx')\n",
    "co1.to_excel(writer, sheet_name='sheet1')\n",
    "co2.to_excel(writer, sheet_name=\"sheet2\")\n",
    "co3.to_excel(writer, sheet_name=\"sheet3\")\n",
    "co4.to_excel(writer, sheet_name=\"sheet4\")\n",
    "writer.save()"
   ]
  },
  {
   "cell_type": "markdown",
   "metadata": {},
   "source": [
    "### \n",
    "- 1-2. covid19.csv를 불러와서 원본 데이터는 sheet1에, 중국 데이터는 sheet2에, 타국 데이터는 sheet3에, 한국 데이터는 sheet4에 저장하고 covid19_new.xlsx로 저장하기"
   ]
  },
  {
   "cell_type": "code",
   "execution_count": 33,
   "metadata": {},
   "outputs": [
    {
     "name": "stdout",
     "output_type": "stream",
     "text": [
      "      mpg  cylinders  displacement horsepower  weight  acceleration  \\\n",
      "0    15.0          8         350.0      165.0  3693.0          11.5   \n",
      "1    18.0          8         318.0      150.0  3436.0          11.0   \n",
      "2    16.0          8         304.0      150.0  3433.0          12.0   \n",
      "3    17.0          8         302.0      140.0  3449.0          10.5   \n",
      "4    15.0          8         429.0      198.0  4341.0          10.0   \n",
      "..    ...        ...           ...        ...     ...           ...   \n",
      "392  27.0          4         140.0      86.00  2790.0          15.6   \n",
      "393  44.0          4          97.0      52.00  2130.0          24.6   \n",
      "394  32.0          4         135.0      84.00  2295.0          11.6   \n",
      "395  28.0          4         120.0      79.00  2625.0          18.6   \n",
      "396  31.0          4         119.0      82.00  2720.0          19.4   \n",
      "\n",
      "     modelYear  originNumber                name  \n",
      "0           70             1   buick skylark 320  \n",
      "1           70             1  plymouth satellite  \n",
      "2           70             1       amc rebel sst  \n",
      "3           70             1         ford torino  \n",
      "4           70             1    ford galaxie 500  \n",
      "..         ...           ...                 ...  \n",
      "392         82             1     ford mustang gl  \n",
      "393         82             2           vw pickup  \n",
      "394         82             1       dodge rampage  \n",
      "395         82             1         ford ranger  \n",
      "396         82             1          chevy s-10  \n",
      "\n",
      "[397 rows x 9 columns]\n"
     ]
    }
   ],
   "source": [
    "auto = pd.read_csv('./auto-mpg.csv')\n",
    "\n",
    "auto.columns = ['mpg', 'cylinders', 'displacement', 'horsepower', 'weight', 'acceleration', 'modelYear', 'originNumber', 'name']\n",
    "print(auto)"
   ]
  },
  {
   "cell_type": "markdown",
   "metadata": {},
   "source": [
    "### 데이터프레임\n",
    "- 2-1. 다음에 맞추어서 해당 데이터셋에 columns name을 설정하고, auto-mpg-2.csv로 저장하기\n"
   ]
  },
  {
   "cell_type": "code",
   "execution_count": 36,
   "metadata": {},
   "outputs": [
    {
     "name": "stdout",
     "output_type": "stream",
     "text": [
      "      mpg  cylinders  displacement horsepower  weight  acceleration  \\\n",
      "308  41.5          4          98.0      76.00  2144.0          14.7   \n",
      "309  38.1          4          89.0      60.00  1968.0          18.8   \n",
      "310  32.1          4          98.0      70.00  2120.0          15.5   \n",
      "311  37.2          4          86.0      65.00  2019.0          16.4   \n",
      "312  28.0          4         151.0      90.00  2678.0          16.5   \n",
      "313  26.4          4         140.0      88.00  2870.0          18.1   \n",
      "314  24.3          4         151.0      90.00  3003.0          20.1   \n",
      "315  19.1          6         225.0      90.00  3381.0          18.7   \n",
      "316  34.3          4          97.0      78.00  2188.0          15.8   \n",
      "317  29.8          4         134.0      90.00  2711.0          15.5   \n",
      "318  31.3          4         120.0      75.00  2542.0          17.5   \n",
      "319  37.0          4         119.0      92.00  2434.0          15.0   \n",
      "320  32.2          4         108.0      75.00  2265.0          15.2   \n",
      "321  46.6          4          86.0      65.00  2110.0          17.9   \n",
      "322  27.9          4         156.0      105.0  2800.0          14.4   \n",
      "323  40.8          4          85.0      65.00  2110.0          19.2   \n",
      "324  44.3          4          90.0      48.00  2085.0          21.7   \n",
      "325  43.4          4          90.0      48.00  2335.0          23.7   \n",
      "326  36.4          5         121.0      67.00  2950.0          19.9   \n",
      "327  30.0          4         146.0      67.00  3250.0          21.8   \n",
      "328  44.6          4          91.0      67.00  1850.0          13.8   \n",
      "329  40.9          4          85.0          ?  1835.0          17.3   \n",
      "330  33.8          4          97.0      67.00  2145.0          18.0   \n",
      "331  29.8          4          89.0      62.00  1845.0          15.3   \n",
      "332  32.7          6         168.0      132.0  2910.0          11.4   \n",
      "333  23.7          3          70.0      100.0  2420.0          12.5   \n",
      "334  35.0          4         122.0      88.00  2500.0          15.1   \n",
      "335  23.6          4         140.0          ?  2905.0          14.3   \n",
      "336  32.4          4         107.0      72.00  2290.0          17.0   \n",
      "\n",
      "     modelYear  originNumber                    name  \n",
      "308         80             2               vw rabbit  \n",
      "309         80             3   toyota corolla tercel  \n",
      "310         80             1      chevrolet chevette  \n",
      "311         80             3              datsun 310  \n",
      "312         80             1      chevrolet citation  \n",
      "313         80             1           ford fairmont  \n",
      "314         80             1             amc concord  \n",
      "315         80             1             dodge aspen  \n",
      "316         80             2               audi 4000  \n",
      "317         80             3  toyota corona liftback  \n",
      "318         80             3               mazda 626  \n",
      "319         80             3    datsun 510 hatchback  \n",
      "320         80             3          toyota corolla  \n",
      "321         80             3               mazda glc  \n",
      "322         80             1              dodge colt  \n",
      "323         80             3              datsun 210  \n",
      "324         80             2    vw rabbit c (diesel)  \n",
      "325         80             2      vw dasher (diesel)  \n",
      "326         80             2     audi 5000s (diesel)  \n",
      "327         80             2      mercedes-benz 240d  \n",
      "328         80             3     honda civic 1500 gl  \n",
      "329         80             2    renault lecar deluxe  \n",
      "330         80             3               subaru dl  \n",
      "331         80             2        vokswagen rabbit  \n",
      "332         80             3           datsun 280-zx  \n",
      "333         80             3           mazda rx-7 gs  \n",
      "334         80             2       triumph tr7 coupe  \n",
      "335         80             1      ford mustang cobra  \n",
      "336         80             3            honda accord  \n"
     ]
    }
   ],
   "source": [
    "auto80 = auto[auto['modelYear']==80]\n",
    "print(auto80)"
   ]
  },
  {
   "cell_type": "markdown",
   "metadata": {},
   "source": [
    "- 2-2. 다음에 맞추어서 해당 데이터셋에 columns name을 설정하고, auto-mpg-2.csv로 저장하기"
   ]
  },
  {
   "cell_type": "code",
   "execution_count": null,
   "metadata": {},
   "outputs": [],
   "source": [
    "mpgstd = auto['mpg'].std()\n",
    "print(mpgstd)\n",
    "\n",
    "hprstd = auto['horsepower'].std()\n",
    "print(hprstd)"
   ]
  },
  {
   "cell_type": "markdown",
   "metadata": {},
   "source": [
    "- 2-3. mpg(연비)와 horsepower(출력) 열의 표준편차값을 구하라\n",
    "- 2.4 horsepower(출력) 열의 표준편차는 구할 수 없다. 이유를 서술하라. (horsepower은 소수점 두자리이다. 즉 자료형이 float형(실수) 이라는 의미이다. horsepower 열의 표준편차를 구해 실행하면 could not convert string to float: '?' 는 오류가 발생하는데 이는 데이터가 실수이기 때문에 나타난다.)"
   ]
  },
  {
   "cell_type": "code",
   "execution_count": 44,
   "metadata": {},
   "outputs": [
    {
     "name": "stdout",
     "output_type": "stream",
     "text": [
      "      mpg  cylinders  displacement horsepower  weight  acceleration  \\\n",
      "396  31.0          4         119.0      82.00  2720.0          19.4   \n",
      "381  34.0          4         108.0      70.00  2245.0          16.9   \n",
      "366  28.0          4         112.0      88.00  2605.0          19.6   \n",
      "367  27.0          4         112.0      88.00  2640.0          18.6   \n",
      "368  34.0          4         112.0      88.00  2395.0          18.0   \n",
      "..    ...        ...           ...        ...     ...           ...   \n",
      "24   10.0          8         360.0      215.0  4615.0          14.0   \n",
      "25   10.0          8         307.0      200.0  4376.0          15.0   \n",
      "26   11.0          8         318.0      210.0  4382.0          13.5   \n",
      "27    9.0          8         304.0      193.0  4732.0          18.5   \n",
      "0    15.0          8         350.0      165.0  3693.0          11.5   \n",
      "\n",
      "     modelYear  originNumber                       name  \n",
      "396         82             1                 chevy s-10  \n",
      "381         82             3             toyota corolla  \n",
      "366         82             1         chevrolet cavalier  \n",
      "367         82             1   chevrolet cavalier wagon  \n",
      "368         82             1  chevrolet cavalier 2-door  \n",
      "..         ...           ...                        ...  \n",
      "24          70             1                  ford f250  \n",
      "25          70             1                  chevy c20  \n",
      "26          70             1                 dodge d200  \n",
      "27          70             1                   hi 1200d  \n",
      "0           70             1          buick skylark 320  \n",
      "\n",
      "[397 rows x 9 columns]\n"
     ]
    }
   ],
   "source": [
    "autoYear = auto.sort_values(by='modelYear', ascending=False)\n",
    "print(autoYear)\n",
    "\n",
    "autoYear.to_csv(\"./auto-mpg-3.csv\")"
   ]
  },
  {
   "cell_type": "markdown",
   "metadata": {},
   "source": [
    "- 2-5. modelYear(출시년도)를 최신순에 따라 데이터를 정렬해서 auto-mpg-3.csv로 저장하라"
   ]
  },
  {
   "cell_type": "code",
   "execution_count": 52,
   "metadata": {},
   "outputs": [],
   "source": [
    "snwer = pd.read_excel('./남북한발전전력량.xlsx')\n",
    "\n",
    "snwer2 = snwer.iloc[[0,1,2,5,6,7]]\n",
    "\n",
    "snwer2.to_csv('./남북한수력및화력발전전력량.csv')"
   ]
  },
  {
   "cell_type": "markdown",
   "metadata": {},
   "source": [
    "- 3. 해당 데이터를 읽어와서 남한과 북한의 수력 및 화력발전과 그 합계에 대한 연간 통계량만을 분리해서 남북한수력및화력발전전력량.csv로 저장하라.\n"
   ]
  },
  {
   "cell_type": "code",
   "execution_count": 16,
   "metadata": {},
   "outputs": [
    {
     "ename": "KeyError",
     "evalue": "'weekday'",
     "output_type": "error",
     "traceback": [
      "\u001b[1;31m---------------------------------------------------------------------------\u001b[0m",
      "\u001b[1;31mKeyError\u001b[0m                                  Traceback (most recent call last)",
      "\u001b[1;32m<ipython-input-16-d1df53589f64>\u001b[0m in \u001b[0;36m<module>\u001b[1;34m\u001b[0m\n\u001b[0;32m     23\u001b[0m             \u001b[0mprint\u001b[0m\u001b[1;33m(\u001b[0m\u001b[1;34m'0'\u001b[0m\u001b[1;33m)\u001b[0m\u001b[1;33m\u001b[0m\u001b[1;33m\u001b[0m\u001b[0m\n\u001b[0;32m     24\u001b[0m \u001b[1;33m\u001b[0m\u001b[0m\n\u001b[1;32m---> 25\u001b[1;33m \u001b[0mcalendar\u001b[0m\u001b[1;33m[\u001b[0m\u001b[1;34m'weekend'\u001b[0m\u001b[1;33m]\u001b[0m \u001b[1;33m=\u001b[0m \u001b[0mcalendar\u001b[0m\u001b[1;33m.\u001b[0m\u001b[0mapply\u001b[0m\u001b[1;33m(\u001b[0m\u001b[0mpweekend\u001b[0m\u001b[1;33m)\u001b[0m\u001b[1;33m\u001b[0m\u001b[1;33m\u001b[0m\u001b[0m\n\u001b[0m\u001b[0;32m     26\u001b[0m \u001b[1;31m# 왜 weekday에서 오류가 나는지 모르겠습니다\u001b[0m\u001b[1;33m\u001b[0m\u001b[1;33m\u001b[0m\u001b[1;33m\u001b[0m\u001b[0m\n\u001b[0;32m     27\u001b[0m \u001b[1;33m\u001b[0m\u001b[0m\n",
      "\u001b[1;32m~\\Anaconda3\\lib\\site-packages\\pandas\\core\\frame.py\u001b[0m in \u001b[0;36mapply\u001b[1;34m(self, func, axis, raw, result_type, args, **kwds)\u001b[0m\n\u001b[0;32m   6876\u001b[0m             \u001b[0mkwds\u001b[0m\u001b[1;33m=\u001b[0m\u001b[0mkwds\u001b[0m\u001b[1;33m,\u001b[0m\u001b[1;33m\u001b[0m\u001b[1;33m\u001b[0m\u001b[0m\n\u001b[0;32m   6877\u001b[0m         )\n\u001b[1;32m-> 6878\u001b[1;33m         \u001b[1;32mreturn\u001b[0m \u001b[0mop\u001b[0m\u001b[1;33m.\u001b[0m\u001b[0mget_result\u001b[0m\u001b[1;33m(\u001b[0m\u001b[1;33m)\u001b[0m\u001b[1;33m\u001b[0m\u001b[1;33m\u001b[0m\u001b[0m\n\u001b[0m\u001b[0;32m   6879\u001b[0m \u001b[1;33m\u001b[0m\u001b[0m\n\u001b[0;32m   6880\u001b[0m     \u001b[1;32mdef\u001b[0m \u001b[0mapplymap\u001b[0m\u001b[1;33m(\u001b[0m\u001b[0mself\u001b[0m\u001b[1;33m,\u001b[0m \u001b[0mfunc\u001b[0m\u001b[1;33m)\u001b[0m \u001b[1;33m->\u001b[0m \u001b[1;34m\"DataFrame\"\u001b[0m\u001b[1;33m:\u001b[0m\u001b[1;33m\u001b[0m\u001b[1;33m\u001b[0m\u001b[0m\n",
      "\u001b[1;32m~\\Anaconda3\\lib\\site-packages\\pandas\\core\\apply.py\u001b[0m in \u001b[0;36mget_result\u001b[1;34m(self)\u001b[0m\n\u001b[0;32m    184\u001b[0m             \u001b[1;32mreturn\u001b[0m \u001b[0mself\u001b[0m\u001b[1;33m.\u001b[0m\u001b[0mapply_raw\u001b[0m\u001b[1;33m(\u001b[0m\u001b[1;33m)\u001b[0m\u001b[1;33m\u001b[0m\u001b[1;33m\u001b[0m\u001b[0m\n\u001b[0;32m    185\u001b[0m \u001b[1;33m\u001b[0m\u001b[0m\n\u001b[1;32m--> 186\u001b[1;33m         \u001b[1;32mreturn\u001b[0m \u001b[0mself\u001b[0m\u001b[1;33m.\u001b[0m\u001b[0mapply_standard\u001b[0m\u001b[1;33m(\u001b[0m\u001b[1;33m)\u001b[0m\u001b[1;33m\u001b[0m\u001b[1;33m\u001b[0m\u001b[0m\n\u001b[0m\u001b[0;32m    187\u001b[0m \u001b[1;33m\u001b[0m\u001b[0m\n\u001b[0;32m    188\u001b[0m     \u001b[1;32mdef\u001b[0m \u001b[0mapply_empty_result\u001b[0m\u001b[1;33m(\u001b[0m\u001b[0mself\u001b[0m\u001b[1;33m)\u001b[0m\u001b[1;33m:\u001b[0m\u001b[1;33m\u001b[0m\u001b[1;33m\u001b[0m\u001b[0m\n",
      "\u001b[1;32m~\\Anaconda3\\lib\\site-packages\\pandas\\core\\apply.py\u001b[0m in \u001b[0;36mapply_standard\u001b[1;34m(self)\u001b[0m\n\u001b[0;32m    293\u001b[0m \u001b[1;33m\u001b[0m\u001b[0m\n\u001b[0;32m    294\u001b[0m             \u001b[1;32mtry\u001b[0m\u001b[1;33m:\u001b[0m\u001b[1;33m\u001b[0m\u001b[1;33m\u001b[0m\u001b[0m\n\u001b[1;32m--> 295\u001b[1;33m                 result = libreduction.compute_reduction(\n\u001b[0m\u001b[0;32m    296\u001b[0m                     \u001b[0mvalues\u001b[0m\u001b[1;33m,\u001b[0m \u001b[0mself\u001b[0m\u001b[1;33m.\u001b[0m\u001b[0mf\u001b[0m\u001b[1;33m,\u001b[0m \u001b[0maxis\u001b[0m\u001b[1;33m=\u001b[0m\u001b[0mself\u001b[0m\u001b[1;33m.\u001b[0m\u001b[0maxis\u001b[0m\u001b[1;33m,\u001b[0m \u001b[0mdummy\u001b[0m\u001b[1;33m=\u001b[0m\u001b[0mdummy\u001b[0m\u001b[1;33m,\u001b[0m \u001b[0mlabels\u001b[0m\u001b[1;33m=\u001b[0m\u001b[0mlabels\u001b[0m\u001b[1;33m\u001b[0m\u001b[1;33m\u001b[0m\u001b[0m\n\u001b[0;32m    297\u001b[0m                 )\n",
      "\u001b[1;32mpandas\\_libs\\reduction.pyx\u001b[0m in \u001b[0;36mpandas._libs.reduction.compute_reduction\u001b[1;34m()\u001b[0m\n",
      "\u001b[1;32mpandas\\_libs\\reduction.pyx\u001b[0m in \u001b[0;36mpandas._libs.reduction.Reducer.get_result\u001b[1;34m()\u001b[0m\n",
      "\u001b[1;32m<ipython-input-16-d1df53589f64>\u001b[0m in \u001b[0;36mpweekend\u001b[1;34m(column)\u001b[0m\n\u001b[0;32m     16\u001b[0m \u001b[1;32mdef\u001b[0m \u001b[0mpweekend\u001b[0m \u001b[1;33m(\u001b[0m\u001b[0mcolumn\u001b[0m\u001b[1;33m)\u001b[0m\u001b[1;33m:\u001b[0m\u001b[1;33m\u001b[0m\u001b[1;33m\u001b[0m\u001b[0m\n\u001b[0;32m     17\u001b[0m     \u001b[1;32mfor\u001b[0m \u001b[0mi\u001b[0m \u001b[1;32min\u001b[0m \u001b[0mrange\u001b[0m\u001b[1;33m(\u001b[0m\u001b[1;36m1\u001b[0m\u001b[1;33m,\u001b[0m\u001b[1;36m365\u001b[0m\u001b[1;33m)\u001b[0m \u001b[1;33m:\u001b[0m\u001b[1;33m\u001b[0m\u001b[1;33m\u001b[0m\u001b[0m\n\u001b[1;32m---> 18\u001b[1;33m         \u001b[1;32mif\u001b[0m \u001b[0mcolumn\u001b[0m\u001b[1;33m[\u001b[0m\u001b[1;34m'weekday'\u001b[0m\u001b[1;33m]\u001b[0m \u001b[1;33m==\u001b[0m \u001b[1;34m'6'\u001b[0m \u001b[1;33m:\u001b[0m\u001b[1;33m\u001b[0m\u001b[1;33m\u001b[0m\u001b[0m\n\u001b[0m\u001b[0;32m     19\u001b[0m             \u001b[1;32mreturn\u001b[0m \u001b[0mprint\u001b[0m\u001b[1;33m(\u001b[0m\u001b[1;34m'1'\u001b[0m\u001b[1;33m)\u001b[0m\u001b[1;33m\u001b[0m\u001b[1;33m\u001b[0m\u001b[0m\n\u001b[0;32m     20\u001b[0m         \u001b[1;32melif\u001b[0m \u001b[0mcolumn\u001b[0m\u001b[1;33m[\u001b[0m\u001b[1;34m'weekday'\u001b[0m\u001b[1;33m]\u001b[0m \u001b[1;33m==\u001b[0m \u001b[1;34m'7'\u001b[0m \u001b[1;33m:\u001b[0m\u001b[1;33m\u001b[0m\u001b[1;33m\u001b[0m\u001b[0m\n",
      "\u001b[1;32m~\\Anaconda3\\lib\\site-packages\\pandas\\core\\series.py\u001b[0m in \u001b[0;36m__getitem__\u001b[1;34m(self, key)\u001b[0m\n\u001b[0;32m    869\u001b[0m         \u001b[0mkey\u001b[0m \u001b[1;33m=\u001b[0m \u001b[0mcom\u001b[0m\u001b[1;33m.\u001b[0m\u001b[0mapply_if_callable\u001b[0m\u001b[1;33m(\u001b[0m\u001b[0mkey\u001b[0m\u001b[1;33m,\u001b[0m \u001b[0mself\u001b[0m\u001b[1;33m)\u001b[0m\u001b[1;33m\u001b[0m\u001b[1;33m\u001b[0m\u001b[0m\n\u001b[0;32m    870\u001b[0m         \u001b[1;32mtry\u001b[0m\u001b[1;33m:\u001b[0m\u001b[1;33m\u001b[0m\u001b[1;33m\u001b[0m\u001b[0m\n\u001b[1;32m--> 871\u001b[1;33m             \u001b[0mresult\u001b[0m \u001b[1;33m=\u001b[0m \u001b[0mself\u001b[0m\u001b[1;33m.\u001b[0m\u001b[0mindex\u001b[0m\u001b[1;33m.\u001b[0m\u001b[0mget_value\u001b[0m\u001b[1;33m(\u001b[0m\u001b[0mself\u001b[0m\u001b[1;33m,\u001b[0m \u001b[0mkey\u001b[0m\u001b[1;33m)\u001b[0m\u001b[1;33m\u001b[0m\u001b[1;33m\u001b[0m\u001b[0m\n\u001b[0m\u001b[0;32m    872\u001b[0m \u001b[1;33m\u001b[0m\u001b[0m\n\u001b[0;32m    873\u001b[0m             \u001b[1;32mif\u001b[0m \u001b[1;32mnot\u001b[0m \u001b[0mis_scalar\u001b[0m\u001b[1;33m(\u001b[0m\u001b[0mresult\u001b[0m\u001b[1;33m)\u001b[0m\u001b[1;33m:\u001b[0m\u001b[1;33m\u001b[0m\u001b[1;33m\u001b[0m\u001b[0m\n",
      "\u001b[1;32m~\\Anaconda3\\lib\\site-packages\\pandas\\core\\indexes\\base.py\u001b[0m in \u001b[0;36mget_value\u001b[1;34m(self, series, key)\u001b[0m\n\u001b[0;32m   4403\u001b[0m         \u001b[0mk\u001b[0m \u001b[1;33m=\u001b[0m \u001b[0mself\u001b[0m\u001b[1;33m.\u001b[0m\u001b[0m_convert_scalar_indexer\u001b[0m\u001b[1;33m(\u001b[0m\u001b[0mk\u001b[0m\u001b[1;33m,\u001b[0m \u001b[0mkind\u001b[0m\u001b[1;33m=\u001b[0m\u001b[1;34m\"getitem\"\u001b[0m\u001b[1;33m)\u001b[0m\u001b[1;33m\u001b[0m\u001b[1;33m\u001b[0m\u001b[0m\n\u001b[0;32m   4404\u001b[0m         \u001b[1;32mtry\u001b[0m\u001b[1;33m:\u001b[0m\u001b[1;33m\u001b[0m\u001b[1;33m\u001b[0m\u001b[0m\n\u001b[1;32m-> 4405\u001b[1;33m             \u001b[1;32mreturn\u001b[0m \u001b[0mself\u001b[0m\u001b[1;33m.\u001b[0m\u001b[0m_engine\u001b[0m\u001b[1;33m.\u001b[0m\u001b[0mget_value\u001b[0m\u001b[1;33m(\u001b[0m\u001b[0ms\u001b[0m\u001b[1;33m,\u001b[0m \u001b[0mk\u001b[0m\u001b[1;33m,\u001b[0m \u001b[0mtz\u001b[0m\u001b[1;33m=\u001b[0m\u001b[0mgetattr\u001b[0m\u001b[1;33m(\u001b[0m\u001b[0mseries\u001b[0m\u001b[1;33m.\u001b[0m\u001b[0mdtype\u001b[0m\u001b[1;33m,\u001b[0m \u001b[1;34m\"tz\"\u001b[0m\u001b[1;33m,\u001b[0m \u001b[1;32mNone\u001b[0m\u001b[1;33m)\u001b[0m\u001b[1;33m)\u001b[0m\u001b[1;33m\u001b[0m\u001b[1;33m\u001b[0m\u001b[0m\n\u001b[0m\u001b[0;32m   4406\u001b[0m         \u001b[1;32mexcept\u001b[0m \u001b[0mKeyError\u001b[0m \u001b[1;32mas\u001b[0m \u001b[0me1\u001b[0m\u001b[1;33m:\u001b[0m\u001b[1;33m\u001b[0m\u001b[1;33m\u001b[0m\u001b[0m\n\u001b[0;32m   4407\u001b[0m             \u001b[1;32mif\u001b[0m \u001b[0mlen\u001b[0m\u001b[1;33m(\u001b[0m\u001b[0mself\u001b[0m\u001b[1;33m)\u001b[0m \u001b[1;33m>\u001b[0m \u001b[1;36m0\u001b[0m \u001b[1;32mand\u001b[0m \u001b[1;33m(\u001b[0m\u001b[0mself\u001b[0m\u001b[1;33m.\u001b[0m\u001b[0mholds_integer\u001b[0m\u001b[1;33m(\u001b[0m\u001b[1;33m)\u001b[0m \u001b[1;32mor\u001b[0m \u001b[0mself\u001b[0m\u001b[1;33m.\u001b[0m\u001b[0mis_boolean\u001b[0m\u001b[1;33m(\u001b[0m\u001b[1;33m)\u001b[0m\u001b[1;33m)\u001b[0m\u001b[1;33m:\u001b[0m\u001b[1;33m\u001b[0m\u001b[1;33m\u001b[0m\u001b[0m\n",
      "\u001b[1;32mpandas\\_libs\\index.pyx\u001b[0m in \u001b[0;36mpandas._libs.index.IndexEngine.get_value\u001b[1;34m()\u001b[0m\n",
      "\u001b[1;32mpandas\\_libs\\index.pyx\u001b[0m in \u001b[0;36mpandas._libs.index.IndexEngine.get_value\u001b[1;34m()\u001b[0m\n",
      "\u001b[1;32mpandas\\_libs\\index.pyx\u001b[0m in \u001b[0;36mpandas._libs.index.IndexEngine.get_loc\u001b[1;34m()\u001b[0m\n",
      "\u001b[1;32mpandas\\_libs\\index_class_helper.pxi\u001b[0m in \u001b[0;36mpandas._libs.index.Int64Engine._check_type\u001b[1;34m()\u001b[0m\n",
      "\u001b[1;31mKeyError\u001b[0m: 'weekday'"
     ]
    }
   ],
   "source": [
    "import pandas as pd\n",
    "import numpy as np\n",
    "import datetime\n",
    "\n",
    "calendar = pd.DataFrame(columns = ['original', 'Year', 'Month', 'Day', 'weekday', 'weekend', 'season' ])\n",
    "calendar.original = pd.date_range(\"20200101\",periods=365)\n",
    "\n",
    "calendar ['Year'] = pd.to_datetime(calendar['Year'])\n",
    "calendar.Year = calendar['original'].dt.year\n",
    "calendar.Month = calendar['original'].dt.month\n",
    "calendar.Day = calendar['original'].dt.day\n",
    "\n",
    "calendar.weekday = calendar['original'].dt.weekday\n",
    "# strfttime (예 2=tue) 에서 2->tue로 바꾸는 법을 모르겠어요\n",
    "\n",
    "def pweekend (column):\n",
    "    for i in range(1,365) : \n",
    "        if column['weekday'] == '6' :\n",
    "            return print('1')\n",
    "        elif column['weekday'] == '7' :\n",
    "            return print('1')\n",
    "        else :\n",
    "            print('0')\n",
    "            \n",
    "calendar['weekend'] = calendar.apply(pweekend)\n",
    "# 왜 weekday에서 오류가 나는지 모르겠습니다\n",
    "\n",
    "\n",
    "def pseason (column) :\n",
    "    for i in range(1,365) :\n",
    "        if column['Month'] ==3||4||5 :\n",
    "            return print(\"spring\")\n",
    "        elif column['Month'] ==6||7||8 :\n",
    "            return print(\"summer\")\n",
    "        elif column['Month'] == 9||10||11 :\n",
    "            return print(\"autumn\")\n",
    "        else :\n",
    "            return print(\"winter\")\n",
    "        \n",
    "calendar['season'] = calendar.apply(pseason) \n",
    "# weekend와 같은 이유로 오류가 난다고 예측되는데 어떻게 해야할지 모르겠습니다ㅠㅠ\n",
    "\n",
    "print(calendar)"
   ]
  }
 ],
 "metadata": {
  "kernelspec": {
   "display_name": "Python 3",
   "language": "python",
   "name": "python3"
  },
  "language_info": {
   "codemirror_mode": {
    "name": "ipython",
    "version": 3
   },
   "file_extension": ".py",
   "mimetype": "text/x-python",
   "name": "python",
   "nbconvert_exporter": "python",
   "pygments_lexer": "ipython3",
   "version": "3.8.3"
  }
 },
 "nbformat": 4,
 "nbformat_minor": 4
}
