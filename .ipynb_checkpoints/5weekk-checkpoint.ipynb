{
 "cells": [
  {
   "cell_type": "code",
   "execution_count": 2,
   "metadata": {},
   "outputs": [],
   "source": [
    "import pandas as pd"
   ]
  },
  {
   "cell_type": "code",
   "execution_count": 3,
   "metadata": {},
   "outputs": [
    {
     "data": {
      "text/html": [
       "<div>\n",
       "<style scoped>\n",
       "    .dataframe tbody tr th:only-of-type {\n",
       "        vertical-align: middle;\n",
       "    }\n",
       "\n",
       "    .dataframe tbody tr th {\n",
       "        vertical-align: top;\n",
       "    }\n",
       "\n",
       "    .dataframe thead th {\n",
       "        text-align: right;\n",
       "    }\n",
       "</style>\n",
       "<table border=\"1\" class=\"dataframe\">\n",
       "  <thead>\n",
       "    <tr style=\"text-align: right;\">\n",
       "      <th></th>\n",
       "      <th>0</th>\n",
       "      <th>1</th>\n",
       "      <th>2</th>\n",
       "      <th>3</th>\n",
       "      <th>4</th>\n",
       "      <th>5</th>\n",
       "      <th>6</th>\n",
       "      <th>7</th>\n",
       "      <th>8</th>\n",
       "    </tr>\n",
       "  </thead>\n",
       "  <tbody>\n",
       "    <tr>\n",
       "      <th>0</th>\n",
       "      <td>18.0</td>\n",
       "      <td>8</td>\n",
       "      <td>307.0</td>\n",
       "      <td>130.0</td>\n",
       "      <td>3504.0</td>\n",
       "      <td>12.0</td>\n",
       "      <td>70</td>\n",
       "      <td>1</td>\n",
       "      <td>chevrolet chevelle malibu</td>\n",
       "    </tr>\n",
       "    <tr>\n",
       "      <th>1</th>\n",
       "      <td>15.0</td>\n",
       "      <td>8</td>\n",
       "      <td>350.0</td>\n",
       "      <td>165.0</td>\n",
       "      <td>3693.0</td>\n",
       "      <td>11.5</td>\n",
       "      <td>70</td>\n",
       "      <td>1</td>\n",
       "      <td>buick skylark 320</td>\n",
       "    </tr>\n",
       "    <tr>\n",
       "      <th>2</th>\n",
       "      <td>18.0</td>\n",
       "      <td>8</td>\n",
       "      <td>318.0</td>\n",
       "      <td>150.0</td>\n",
       "      <td>3436.0</td>\n",
       "      <td>11.0</td>\n",
       "      <td>70</td>\n",
       "      <td>1</td>\n",
       "      <td>plymouth satellite</td>\n",
       "    </tr>\n",
       "    <tr>\n",
       "      <th>3</th>\n",
       "      <td>16.0</td>\n",
       "      <td>8</td>\n",
       "      <td>304.0</td>\n",
       "      <td>150.0</td>\n",
       "      <td>3433.0</td>\n",
       "      <td>12.0</td>\n",
       "      <td>70</td>\n",
       "      <td>1</td>\n",
       "      <td>amc rebel sst</td>\n",
       "    </tr>\n",
       "    <tr>\n",
       "      <th>4</th>\n",
       "      <td>17.0</td>\n",
       "      <td>8</td>\n",
       "      <td>302.0</td>\n",
       "      <td>140.0</td>\n",
       "      <td>3449.0</td>\n",
       "      <td>10.5</td>\n",
       "      <td>70</td>\n",
       "      <td>1</td>\n",
       "      <td>ford torino</td>\n",
       "    </tr>\n",
       "  </tbody>\n",
       "</table>\n",
       "</div>"
      ],
      "text/plain": [
       "      0  1      2      3       4     5   6  7                          8\n",
       "0  18.0  8  307.0  130.0  3504.0  12.0  70  1  chevrolet chevelle malibu\n",
       "1  15.0  8  350.0  165.0  3693.0  11.5  70  1          buick skylark 320\n",
       "2  18.0  8  318.0  150.0  3436.0  11.0  70  1         plymouth satellite\n",
       "3  16.0  8  304.0  150.0  3433.0  12.0  70  1              amc rebel sst\n",
       "4  17.0  8  302.0  140.0  3449.0  10.5  70  1                ford torino"
      ]
     },
     "execution_count": 3,
     "metadata": {},
     "output_type": "execute_result"
    }
   ],
   "source": [
    "mpg_df= pd.read_csv(\"auto-mpg.csv\", header=None)\n",
    "mpg_df.head()"
   ]
  },
  {
   "cell_type": "code",
   "execution_count": 24,
   "metadata": {},
   "outputs": [
    {
     "name": "stdout",
     "output_type": "stream",
     "text": [
      "<class 'pandas.core.frame.DataFrame'>\n",
      "RangeIndex: 398 entries, 0 to 397\n",
      "Data columns (total 9 columns):\n",
      " #   Column               Non-Null Count  Dtype  \n",
      "---  ------               --------------  -----  \n",
      " 0   mpg(연비)              398 non-null    float64\n",
      " 1   cylinders(실린더수)      398 non-null    int64  \n",
      " 2   displacement(배기량)    398 non-null    float64\n",
      " 3   horsepower(출력)       398 non-null    object \n",
      " 4   weight(차중)           398 non-null    float64\n",
      " 5   acceleration(가속능력)   398 non-null    float64\n",
      " 6   modelYear(출시년도)      398 non-null    int64  \n",
      " 7   originNumber(제조국번호)  398 non-null    int64  \n",
      " 8   name(모델명)            398 non-null    object \n",
      "dtypes: float64(4), int64(3), object(2)\n",
      "memory usage: 28.1+ KB\n",
      "1    249\n",
      "3     79\n",
      "2     70\n",
      "Name: originNumber(제조국번호), dtype: int64\n"
     ]
    }
   ],
   "source": [
    "mpg_df.columns = ['mpg(연비)','cylinders(실린더수)', 'displacement(배기량)', 'horsepower(출력)' ,'weight(차중)', 'acceleration(가속능력)', 'modelYear(출시년도)', 'originNumber(제조국번호)', 'name(모델명)' ]\n",
    "#print(mpg_df.head())\n",
    "#mpg_df.tail()\n",
    "#mpg_df.head(n=30)\n",
    "\n",
    "mpg_df.info() \n",
    "# -> Non-null = Null이 없다\n",
    "\n",
    "#mpg_df.describe()\n",
    "# -> 기술통계 (변수가 1개 사라졌다)\n",
    "\n",
    "mpg_df.describe(include=\"all\")\n",
    "# -> 기술통계 (모든 변수를 볼 수 있어)\n",
    "\n",
    "print(mpg_df[\"originNumber(제조국번호)\"].value_counts())"
   ]
  },
  {
   "cell_type": "code",
   "execution_count": 25,
   "metadata": {},
   "outputs": [
    {
     "name": "stdout",
     "output_type": "stream",
     "text": [
      "0    USA\n",
      "1    USA\n",
      "2    USA\n",
      "3    USA\n",
      "4    USA\n",
      "Name: originNumber(제조국번호), dtype: category\n",
      "Categories (3, object): [EU, JPN, USA]\n",
      "<class 'pandas.core.frame.DataFrame'>\n",
      "RangeIndex: 398 entries, 0 to 397\n",
      "Data columns (total 9 columns):\n",
      " #   Column               Non-Null Count  Dtype   \n",
      "---  ------               --------------  -----   \n",
      " 0   mpg(연비)              398 non-null    float64 \n",
      " 1   cylinders(실린더수)      398 non-null    int64   \n",
      " 2   displacement(배기량)    398 non-null    float64 \n",
      " 3   horsepower(출력)       398 non-null    object  \n",
      " 4   weight(차중)           398 non-null    float64 \n",
      " 5   acceleration(가속능력)   398 non-null    float64 \n",
      " 6   modelYear(출시년도)      398 non-null    int64   \n",
      " 7   originNumber(제조국번호)  398 non-null    category\n",
      " 8   name(모델명)            398 non-null    object  \n",
      "dtypes: category(1), float64(4), int64(2), object(2)\n",
      "memory usage: 25.5+ KB\n"
     ]
    }
   ],
   "source": [
    "mpg_df[\"originNumber(제조국번호)\"].replace({1:\"USA\", 2:\"EU\", 3:\"JPN\"}, inplace=True)\n",
    "mpg_df[\"originNumber(제조국번호)\"] = mpg_df[\"originNumber(제조국번호)\"].astype('category')\n",
    "print(mpg_df[\"originNumber(제조국번호)\"].head())\n",
    "mpg_df.info()"
   ]
  },
  {
   "cell_type": "code",
   "execution_count": 26,
   "metadata": {},
   "outputs": [],
   "source": [
    "import numpy as np\n",
    "# np.nan -> nan은 상수"
   ]
  },
  {
   "cell_type": "code",
   "execution_count": 27,
   "metadata": {},
   "outputs": [
    {
     "name": "stdout",
     "output_type": "stream",
     "text": [
      "mpg(연비)                0\n",
      "cylinders(실린더수)        0\n",
      "displacement(배기량)      0\n",
      "horsepower(출력)         0\n",
      "weight(차중)             0\n",
      "acceleration(가속능력)     0\n",
      "modelYear(출시년도)        0\n",
      "originNumber(제조국번호)    0\n",
      "name(모델명)              0\n",
      "dtype: int64\n"
     ]
    }
   ],
   "source": [
    "print(mpg_df.isnull().sum())\n",
    "# 결측치 행의 개수 찾기 (결측치가 안보일 수도 있음) -> 기술통계 같이 확인!"
   ]
  },
  {
   "cell_type": "code",
   "execution_count": 29,
   "metadata": {},
   "outputs": [
    {
     "data": {
      "text/plain": [
       "<bound method Series.std of 0      130.0\n",
       "1      165.0\n",
       "2      150.0\n",
       "3      150.0\n",
       "4      140.0\n",
       "       ...  \n",
       "393    86.00\n",
       "394    52.00\n",
       "395    84.00\n",
       "396    79.00\n",
       "397    82.00\n",
       "Name: horsepower(출력), Length: 398, dtype: object>"
      ]
     },
     "execution_count": 29,
     "metadata": {},
     "output_type": "execute_result"
    }
   ],
   "source": [
    "mpg_df['horsepower(출력)'].std\n",
    "# ?,- 등의 결측치가 있는지 확인"
   ]
  },
  {
   "cell_type": "code",
   "execution_count": 33,
   "metadata": {},
   "outputs": [
    {
     "name": "stdout",
     "output_type": "stream",
     "text": [
      "           mpg(연비)  cylinders(실린더수)  displacement(배기량)  horsepower(출력)  \\\n",
      "count   398.000000       398.000000         398.000000      398.000000   \n",
      "unique         NaN              NaN                NaN             NaN   \n",
      "top            NaN              NaN                NaN             NaN   \n",
      "freq           NaN              NaN                NaN             NaN   \n",
      "mean     23.514573         5.454774         193.425879      104.469388   \n",
      "std       7.815984         1.701004         104.269838       38.199187   \n",
      "min       9.000000         3.000000          68.000000       46.000000   \n",
      "25%      17.500000         4.000000         104.250000       76.000000   \n",
      "50%      23.000000         4.000000         148.500000       95.000000   \n",
      "75%      29.000000         8.000000         262.000000      125.000000   \n",
      "max      46.600000         8.000000         455.000000      230.000000   \n",
      "\n",
      "         weight(차중)  acceleration(가속능력)  modelYear(출시년도) originNumber(제조국번호)  \\\n",
      "count    398.000000          398.000000       398.000000                 398   \n",
      "unique          NaN                 NaN              NaN                   3   \n",
      "top             NaN                 NaN              NaN                 USA   \n",
      "freq            NaN                 NaN              NaN                 249   \n",
      "mean    2970.424623           15.568090        76.010050                 NaN   \n",
      "std      846.841774            2.757689         3.697627                 NaN   \n",
      "min     1613.000000            8.000000        70.000000                 NaN   \n",
      "25%     2223.750000           13.825000        73.000000                 NaN   \n",
      "50%     2803.500000           15.500000        76.000000                 NaN   \n",
      "75%     3608.000000           17.175000        79.000000                 NaN   \n",
      "max     5140.000000           24.800000        82.000000                 NaN   \n",
      "\n",
      "         name(모델명)  \n",
      "count          398  \n",
      "unique         305  \n",
      "top     ford pinto  \n",
      "freq             6  \n",
      "mean           NaN  \n",
      "std            NaN  \n",
      "min            NaN  \n",
      "25%            NaN  \n",
      "50%            NaN  \n",
      "75%            NaN  \n",
      "max            NaN  \n"
     ]
    }
   ],
   "source": [
    "mpg_df.replace('?',np.nan, inplace=True)\n",
    "# ? -> np.nan(결측치)로 바꿔주고 저장\n",
    "\n",
    "mpg_df = mpg_df.astype({'horsepower(출력)' : np.float})\n",
    "# 자료형을 float으로 변경 (형변환)\n",
    "\n",
    "mean_power = mpg_df['horsepower(출력)'].mean()\n",
    "# horsepower의 평균값 = mean_power\n",
    "\n",
    "mpg_df['horsepower(출력)'].fillna(mean_power, inplace=True)\n",
    "# na의 값들 (결측치)를 mean_power로 바꿔준다\n",
    "\n",
    "print(mpg_df.describe(include='all'))"
   ]
  }
 ],
 "metadata": {
  "kernelspec": {
   "display_name": "Python 3",
   "language": "python",
   "name": "python3"
  },
  "language_info": {
   "codemirror_mode": {
    "name": "ipython",
    "version": 3
   },
   "file_extension": ".py",
   "mimetype": "text/x-python",
   "name": "python",
   "nbconvert_exporter": "python",
   "pygments_lexer": "ipython3",
   "version": "3.8.3"
  }
 },
 "nbformat": 4,
 "nbformat_minor": 4
}
