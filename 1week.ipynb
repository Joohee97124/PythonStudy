{
 "cells": [
  {
   "cell_type": "code",
   "execution_count": 1,
   "metadata": {},
   "outputs": [
    {
     "name": "stdout",
     "output_type": "stream",
     "text": [
      "53.333333333333336\n"
     ]
    }
   ],
   "source": [
    "K = 50\n",
    "M = 80\n",
    "E = 30\n",
    "\n",
    "print ((K+M+E)/3)\n"
   ]
  },
  {
   "cell_type": "markdown",
   "metadata": {},
   "source": [
    "### 변수 1.\n",
    "- 1. 홍길동 씨의 국어, 수학, 영어의 점수는 차례대로 50, 80, 30이다. 모두 변수로 선언하고, 평균을 출력하라."
   ]
  },
  {
   "cell_type": "code",
   "execution_count": 3,
   "metadata": {},
   "outputs": [
    {
     "name": "stdout",
     "output_type": "stream",
     "text": [
      "짝수입니다.\n"
     ]
    }
   ],
   "source": [
    "a = 409298570\n",
    "\n",
    "if a%2==0 :\n",
    "    print(\"짝수입니다.\")\n",
    "elif a%2==1 : \n",
    "    print(\"홀수입니다.\")\n"
   ]
  },
  {
   "cell_type": "markdown",
   "metadata": {},
   "source": [
    "### 변수 2.\n",
    "- 2. 자연수 409298570가 짝수인지 프로그래밍으로 판별하라."
   ]
  },
  {
   "cell_type": "code",
   "execution_count": 4,
   "metadata": {},
   "outputs": [
    {
     "name": "stdout",
     "output_type": "stream",
     "text": [
      "국어,수학,영어,프로그래밍\n"
     ]
    }
   ],
   "source": [
    "word = \"국어:수학:영어:프로그래밍\"\n",
    "word2 = word[0:2]+\",\"+word[3:5]+\",\"+word[6:8]+\",\"+word[9:14]\n",
    "print(word2)\n"
   ]
  },
  {
   "cell_type": "markdown",
   "metadata": {},
   "source": [
    "### 변수 3.\n",
    "- 3. 다음과 같이 \"국어:수학:영어:프로그래밍\" 이라는 문자열이 있다. 내장함수를 이용하여 \"국어, 수학, 영어, 프로그래밍\"으로 바꿔 출력하라."
   ]
  },
  {
   "cell_type": "code",
   "execution_count": 5,
   "metadata": {},
   "outputs": [
    {
     "name": "stdout",
     "output_type": "stream",
     "text": [
      "[5, 80, 3, 70, 1]\n"
     ]
    }
   ],
   "source": [
    "A = [1,70, 3, 80, 5]\n",
    "A.reverse()\n",
    "print(A)"
   ]
  },
  {
   "cell_type": "markdown",
   "metadata": {},
   "source": [
    "### 변수 4.\n",
    "- 4. 다음과 같은 리스트가 있다. [1, 70, 3, 80, 5]. 내장함수를 이용해서 뒤집어서 [5, 80, 3, 70, 1]로 만들고 출력하라."
   ]
  },
  {
   "cell_type": "code",
   "execution_count": 6,
   "metadata": {},
   "outputs": [
    {
     "name": "stdout",
     "output_type": "stream",
     "text": [
      "['파이썬은 정말 편하다']\n"
     ]
    }
   ],
   "source": [
    "B = [\"파이썬은\", \"정말\", \"편하다\"]\n",
    "B.remove(\"정말\")\n",
    "B.remove(\"편하다\")\n",
    "B.append(\"파이썬은 정말 편하다\")\n",
    "B.remove(\"파이썬은\")\n",
    "\n",
    "print(B)"
   ]
  },
  {
   "cell_type": "markdown",
   "metadata": {},
   "source": [
    "### 변수 5.\n",
    "- 5. 다음과 같은 리스트가 있다. [\"파이썬은\", \"정말\", \"편하다\"]. 내장함수를 이용하여 \"파이썬은 정말 편하다\"를 만들고 출력하라.\n",
    "- remove를 이용해서 리스트 안의 요소들을 지운 후 (1개는 남겨둔다)\n",
    "- append를 이용해서 넣고 싶은 요소를 넣는다.\n",
    "- 그리고 필요 없는 요소를 마지막으로 다시 제거 한다. (remove 이용)"
   ]
  },
  {
   "cell_type": "code",
   "execution_count": 7,
   "metadata": {},
   "outputs": [
    {
     "name": "stdout",
     "output_type": "stream",
     "text": [
      "[1, 3, 4, 5, 10, 50, 410]\n"
     ]
    }
   ],
   "source": [
    "C = [1, 50, 410, 10, 3, 4, 5]\n",
    "C.sort()\n",
    "print(C)"
   ]
  },
  {
   "cell_type": "markdown",
   "metadata": {},
   "source": [
    "### 변수 6.\n",
    "- 6. 다음과 같은 리스트가 있다. [1, 50, 410, 10, 3, 4, 5]. 내장함수를 이용해서 오름차순으로 정렬하고 출력하라."
   ]
  },
  {
   "cell_type": "code",
   "execution_count": 8,
   "metadata": {},
   "outputs": [
    {
     "name": "stdout",
     "output_type": "stream",
     "text": [
      " I love python \n"
     ]
    }
   ],
   "source": [
    "D = \" I love python \"\n",
    "D.rstrip()\n",
    "\n",
    "print(D)"
   ]
  },
  {
   "cell_type": "markdown",
   "metadata": {},
   "source": [
    "### 변수 7.\n",
    "- 7. 다음과 같은 문자열이 있다. \" I love python \". 양쪽의 공백을 내장함수를 이용해서 지우고 출력하라."
   ]
  },
  {
   "cell_type": "code",
   "execution_count": 9,
   "metadata": {},
   "outputs": [
    {
     "name": "stdout",
     "output_type": "stream",
     "text": [
      "1\n",
      "3\n",
      "6\n",
      "10\n",
      "15\n",
      "21\n",
      "28\n",
      "36\n",
      "45\n",
      "55\n",
      "66\n",
      "78\n",
      "91\n",
      "105\n",
      "120\n",
      "136\n",
      "153\n",
      "171\n",
      "190\n",
      "210\n",
      "231\n",
      "253\n",
      "276\n",
      "300\n",
      "325\n",
      "351\n",
      "378\n",
      "406\n",
      "435\n",
      "465\n",
      "496\n",
      "528\n",
      "561\n",
      "595\n",
      "630\n",
      "666\n",
      "703\n",
      "741\n",
      "780\n",
      "820\n",
      "861\n",
      "903\n",
      "946\n",
      "990\n",
      "1035\n",
      "1081\n",
      "1128\n",
      "1176\n",
      "1225\n",
      "1275\n",
      "1326\n",
      "1378\n",
      "1431\n",
      "1485\n",
      "1540\n",
      "1596\n",
      "1653\n",
      "1711\n",
      "1770\n",
      "1830\n",
      "1891\n",
      "1953\n",
      "2016\n",
      "2080\n",
      "2145\n",
      "2211\n",
      "2278\n",
      "2346\n",
      "2415\n",
      "2485\n",
      "2556\n",
      "2628\n",
      "2701\n",
      "2775\n",
      "2850\n",
      "2926\n",
      "3003\n",
      "3081\n",
      "3160\n",
      "3240\n",
      "3321\n",
      "3403\n",
      "3486\n",
      "3570\n",
      "3655\n",
      "3741\n",
      "3828\n",
      "3916\n",
      "4005\n",
      "4095\n",
      "4186\n",
      "4278\n",
      "4371\n",
      "4465\n",
      "4560\n",
      "4656\n",
      "4753\n",
      "4851\n",
      "4950\n",
      "5050\n"
     ]
    }
   ],
   "source": [
    "sum = 0\n",
    "for i in range(1,101) : \n",
    "    sum += i\n",
    "    print(sum)"
   ]
  },
  {
   "cell_type": "markdown",
   "metadata": {},
   "source": [
    "### 제어문 1.\n",
    "- 1. for문을 이용해서 1부터 100까지의 수를 더하고 출력하라."
   ]
  },
  {
   "cell_type": "code",
   "execution_count": 10,
   "metadata": {},
   "outputs": [
    {
     "name": "stdout",
     "output_type": "stream",
     "text": [
      "1\n",
      "3\n",
      "6\n",
      "10\n",
      "15\n",
      "21\n",
      "28\n",
      "36\n",
      "45\n",
      "55\n",
      "66\n",
      "78\n",
      "91\n",
      "105\n",
      "120\n",
      "136\n",
      "153\n",
      "171\n",
      "190\n",
      "210\n",
      "231\n",
      "253\n",
      "276\n",
      "300\n",
      "325\n",
      "351\n",
      "378\n",
      "406\n",
      "435\n",
      "465\n",
      "496\n",
      "528\n",
      "561\n",
      "595\n",
      "630\n",
      "666\n",
      "703\n",
      "741\n",
      "780\n",
      "820\n",
      "861\n",
      "903\n",
      "946\n",
      "990\n",
      "1035\n",
      "1081\n",
      "1128\n",
      "1176\n",
      "1225\n",
      "1275\n",
      "1326\n",
      "1378\n",
      "1431\n",
      "1485\n",
      "1540\n",
      "1596\n",
      "1653\n",
      "1711\n",
      "1770\n",
      "1830\n",
      "1891\n",
      "1953\n",
      "2016\n",
      "2080\n",
      "2145\n",
      "2211\n",
      "2278\n",
      "2346\n",
      "2415\n",
      "2485\n",
      "2556\n",
      "2628\n",
      "2701\n",
      "2775\n",
      "2850\n",
      "2926\n",
      "3003\n",
      "3081\n",
      "3160\n",
      "3240\n",
      "3321\n",
      "3403\n",
      "3486\n",
      "3570\n",
      "3655\n",
      "3741\n",
      "3828\n",
      "3916\n",
      "4005\n",
      "4095\n",
      "4186\n",
      "4278\n",
      "4371\n",
      "4465\n",
      "4560\n",
      "4656\n",
      "4753\n",
      "4851\n",
      "4950\n",
      "5050\n"
     ]
    }
   ],
   "source": [
    "n = 0\n",
    "sum = 0\n",
    "\n",
    "while n < 100 :\n",
    "    n = n+1\n",
    "    sum += n\n",
    "    print(sum)"
   ]
  },
  {
   "cell_type": "markdown",
   "metadata": {},
   "source": [
    "### 제어문 2.\n",
    "- 2. while문을 이용해서 1부터 100까지의 수를 더하고 출력하라."
   ]
  },
  {
   "cell_type": "code",
   "execution_count": 11,
   "metadata": {},
   "outputs": [
    {
     "name": "stdout",
     "output_type": "stream",
     "text": [
      "3\n",
      "9\n",
      "18\n",
      "30\n",
      "45\n",
      "63\n",
      "84\n",
      "108\n",
      "135\n",
      "165\n",
      "198\n",
      "234\n",
      "273\n",
      "315\n",
      "360\n",
      "408\n",
      "459\n",
      "513\n",
      "570\n",
      "630\n",
      "693\n",
      "759\n",
      "828\n",
      "900\n",
      "975\n",
      "1053\n",
      "1134\n",
      "1218\n",
      "1305\n",
      "1395\n",
      "1488\n",
      "1584\n",
      "1683\n"
     ]
    }
   ],
   "source": [
    "n = 0\n",
    "sum = 0\n",
    "while n < 100:\n",
    "    n = n+1\n",
    "    if n%3==0 :\n",
    "        sum += n\n",
    "        print(sum)"
   ]
  },
  {
   "cell_type": "markdown",
   "metadata": {},
   "source": [
    "### 제어문 3.\n",
    "- 3. 1부터 100까지 3의 배수만 더하고 출력하라."
   ]
  },
  {
   "cell_type": "code",
   "execution_count": null,
   "metadata": {},
   "outputs": [],
   "source": [
    "A = [70, 60, 55, 75, 95, 90, 80, 80, 85, 100]\n",
    "\n",
    "i = 0\n",
    "sum = 0\n",
    "avg = 0\n",
    "\n",
    "for i in A :\n",
    "   sum += i\n",
    "   avg = sum / len(A)\n",
    "   print(avg)"
   ]
  },
  {
   "cell_type": "markdown",
   "metadata": {},
   "source": [
    "### 제어문 4.\n",
    "- 4. A학급에는 10명의 학생이 있고, 이 학생들의 중간고사 점수는 다음과 같다. [70, 60, 55, 75, 95, 90, 80, 80, 85, 100]. for문을 사용해서 A학급의 평균 점수를 구하고 출력하라."
   ]
  },
  {
   "cell_type": "code",
   "execution_count": 13,
   "metadata": {},
   "outputs": [
    {
     "name": "stdout",
     "output_type": "stream",
     "text": [
      "2\n",
      "6\n",
      "10\n",
      "40\n",
      "90\n",
      "100\n",
      "2020\n"
     ]
    }
   ],
   "source": [
    "B = [1, 3, 5, 40, 90, 100, 2020]\n",
    "\n",
    "for i in B :\n",
    "    if i%2==1 :\n",
    "        i = i*2\n",
    "\n",
    "    print(i)"
   ]
  },
  {
   "cell_type": "markdown",
   "metadata": {},
   "source": [
    "### 제어문 5.\n",
    "- 5. 다음과 같은 리스트가 있다. [1, 3, 5, 40, 90, 100, 2020]. for문을 사용해서 홀수에만 2를 곱하고 리스트를 출력하라."
   ]
  },
  {
   "cell_type": "code",
   "execution_count": 14,
   "metadata": {},
   "outputs": [
    {
     "name": "stdout",
     "output_type": "stream",
     "text": [
      "*\n",
      "**\n",
      "***\n",
      "****\n",
      "*****\n"
     ]
    }
   ],
   "source": [
    "for i in range(1,6) :\n",
    "    print(\"*\" * i)\n",
    "    print(end='')"
   ]
  },
  {
   "cell_type": "markdown",
   "metadata": {},
   "source": [
    "### 제어문 6.\n",
    "- 6. for문을 이용해 다음을 출력하라\n",
    "- *\n",
    "- **\n",
    "- ***\n",
    "- ****\n",
    "- *****"
   ]
  },
  {
   "cell_type": "code",
   "execution_count": null,
   "metadata": {},
   "outputs": [],
   "source": [
    "a = int(input (\"점수를 입력하세요.:\"))\n",
    "\n",
    "if a > 80 :\n",
    "    print(\"A\")\n",
    "elif 80 > a > 50 :\n",
    "    print(\"B\")\n",
    "elif 50 > a > 30 :\n",
    "    print(\"C\")\n",
    "else :\n",
    "    print(\"F\")"
   ]
  },
  {
   "cell_type": "markdown",
   "metadata": {},
   "source": [
    "### 함수와입출력 1.\n",
    "- 1. 학점산출함수를 만들어라. 학생의 점수를 입력할 수 있고, 점수를 기반으로 학점을 매겨주고 출력해야한다.\n",
    "(A : 100~80, B : 79 ~ 50, C : 49 ~ 30, F : 29 ~)\n",
    "- input : 85\n",
    "- output : A"
   ]
  },
  {
   "cell_type": "code",
   "execution_count": null,
   "metadata": {},
   "outputs": [],
   "source": [
    "b = int (input (\"숫자를 입력하세요.:\"))\n",
    "\n",
    "if b%2 == 0 :\n",
    "    print(\"TRUE\")\n",
    "else :\n",
    "    print(\"FALSE\")"
   ]
  },
  {
   "cell_type": "markdown",
   "metadata": {},
   "source": [
    "### 함수와입출력 2.\n",
    "- 2. 짝수 판별 프로그램을 만들어라. 수를 하나 입력할 수 있고, 그 수가 짝수이면 True, 홀수이면 False를 리턴한다.\n",
    "- input : 3\n",
    "- return : False"
   ]
  },
  {
   "cell_type": "code",
   "execution_count": null,
   "metadata": {},
   "outputs": [],
   "source": [
    "c = input (\"주민등록번호를 입력하세요.:\")\n",
    "\n",
    "year = c[0:2]\n",
    "\n",
    "if int(c[6]) == 1 :\n",
    "    print(year,\"남자\")\n",
    "else :\n",
    "    print(year,\"여자\")"
   ]
  },
  {
   "cell_type": "markdown",
   "metadata": {},
   "source": [
    "### 함수와 입출력 3.\n",
    "- 3. 주민등록번호 판별 프로그램을 만들어라. 주민등록번호를 입력할 수 있고, 그 번호를 통해 몇년생인지, 그리고 남자 인지 여자인지를 판별하고 출력해야한다.\n",
    "- input : 970710-1234567\n",
    "- output : 97년생, 남자"
   ]
  },
  {
   "cell_type": "code",
   "execution_count": null,
   "metadata": {},
   "outputs": [],
   "source": [
    "d = int (input(\"숫자1:\"))\n",
    "e = input(\"연산자\")\n",
    "f = int (input(\"숫자2:\"))\n",
    "\n",
    "def add(x,y) :\n",
    "    return x+y\n",
    "\n",
    "def sub(x,y) : \n",
    "    return x-y\n",
    "\n",
    "def mul(x,y) :\n",
    "    return x*y\n",
    "\n",
    "def div(x,y) :\n",
    "    return x/y\n",
    "\n",
    "def ever(x,y) :\n",
    "    return x%y\n",
    "\n",
    "if e == \"+\" :\n",
    "    print(add(d,f))\n",
    "elif e == \"-\" :\n",
    "    print(sub(d,f))\n",
    "elif e == \"*\" :\n",
    "    print(mul(d,f))\n",
    "elif e == \"/\" :\n",
    "    print(div(d,f))\n",
    "elif e == \"%\" :\n",
    "    print(ever(d,f))"
   ]
  },
  {
   "cell_type": "markdown",
   "metadata": {},
   "source": [
    "### 함수와입출력 4.\n",
    "- 4. 간단한 계산기 함수를 만들어라. 사칙연산과 나머지 연산이 되어야한다.\n",
    "- input : 35\n",
    "- +\n",
    "- 4\n",
    "- output : 39"
   ]
  },
  {
   "cell_type": "code",
   "execution_count": null,
   "metadata": {},
   "outputs": [],
   "source": [
    "f = int (input (\"거스름돈 입력:\"))\n",
    "\n",
    "f5000 = f//5000\n",
    "f = f%5000\n",
    "f1000 = f//1000\n",
    "f = f%1000\n",
    "f500 = f//500\n",
    "f = f%500\n",
    "f100 = f//100\n",
    "f = f%100\n",
    "f50 = f//50\n",
    "f = f%50\n",
    "f10 = f//10\n",
    "\n",
    "print( \"5000원 : \" , f5000,\"개\\n\" \n",
    "       \"1000원 : \" , f1000, \"개\\n\"\n",
    "       \"500원 : \", f500, \"개\\n\"\n",
    "       \"100원 : \", f100 , \"개\\n\"\n",
    "       \"50원 : \",f50 , \"개\\n\"\n",
    "       \"10원 : \", f10 , \"개\\n\")"
   ]
  },
  {
   "cell_type": "markdown",
   "metadata": {},
   "source": [
    "### 함수와입출력 5.\n",
    "- 5. 거스름돈 함수를 만들어라. 금액을 입력하면 거스름돈을 출력해야한다.\n",
    "- input : 6890\n",
    "- output : 5000원 : 1개\n",
    "- 1000원 : 1개\n",
    "- 500원 : 1개\n",
    "- 100원 : 3개\n",
    "- 50원 : 1개\n",
    "- 10원 : 4개"
   ]
  },
  {
   "cell_type": "code",
   "execution_count": null,
   "metadata": {},
   "outputs": [],
   "source": [
    "import math\n",
    "\n",
    "a = int (input (\"x^2의 계수를 입력하세요: \\n\"))\n",
    "b= int (input(\"x의 계수를 입력하세요: \\n\"))\n",
    "c = int (input(\"상수를 입력하세요 : \\n\"))\n",
    "\n",
    "if b**2-(4*a*c) < 0:\n",
    "    print (\"해 없음\")\n",
    "elif b**2-(4*a*c) == 0 :\n",
    "    print(\"%d\" %(-b/2*a))\n",
    "elif b**2-(4*a*c) > 0:\n",
    "    x1 = (-b + (b**2-4*a*c)**0.5) / (2*a)\n",
    "    x2 = (-b - (b**2-4*a*c)**0.5) / (2*a)\n",
    "    print(\"x1 =\",x 1, \"x2 =\", x2)\n"
   ]
  },
  {
   "cell_type": "markdown",
   "metadata": {},
   "source": [
    "### 함수와입출력 6.\n",
    "- 6. 이차방정식의 근을 구하는 함수를 만들어라.\n",
    "- 제곱근은 math 라이브러리 활용!\n",
    "- input : 1x^2+6x-27\n",
    "- output : x1 = -9, x2 = 3\n",
    "- 이차방정식의 근은 허수, 중근, x2개 인 경우로 나뉘며 근의 공식을 통해 x2개의 값을 추론했다."
   ]
  }
 ],
 "metadata": {
  "kernelspec": {
   "display_name": "Python 3",
   "language": "python",
   "name": "python3"
  },
  "language_info": {
   "codemirror_mode": {
    "name": "ipython",
    "version": 3
   },
   "file_extension": ".py",
   "mimetype": "text/x-python",
   "name": "python",
   "nbconvert_exporter": "python",
   "pygments_lexer": "ipython3",
   "version": "3.8.3"
  }
 },
 "nbformat": 4,
 "nbformat_minor": 4
}
